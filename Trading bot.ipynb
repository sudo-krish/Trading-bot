{
 "cells": [
  {
   "cell_type": "code",
   "execution_count": 35,
   "id": "c0f520ea",
   "metadata": {},
   "outputs": [],
   "source": [
    "#Load Libraries\n",
    "import pandas as pd\n",
    "from pandas.plotting import scatter_matrix\n",
    "import pandas_ta as ta\n",
    "import requests\n",
    "import json\n",
    "import numpy as np\n",
    "import matplotlib.pyplot as plt\n",
    "from sklearn import model_selection\n",
    "from sklearn.metrics import classification_report\n",
    "from sklearn.metrics import confusion_matrix\n",
    "from sklearn.metrics import accuracy_score\n",
    "from sklearn.linear_model import LogisticRegression\n",
    "from sklearn.tree import DecisionTreeClassifier\n",
    "from sklearn.neighbors import KNeighborsClassifier\n",
    "from sklearn.discriminant_analysis import LinearDiscriminantAnalysis\n",
    "from sklearn.naive_bayes import GaussianNB\n",
    "from sklearn.svm import SVC"
   ]
  },
  {
   "cell_type": "code",
   "execution_count": 50,
   "id": "8afc132c",
   "metadata": {},
   "outputs": [
    {
     "name": "stdout",
     "output_type": "stream",
     "text": [
      "          2022-07-16 20:40:00 2022-07-16 20:35:00 2022-07-16 20:30:00  \\\n",
      "1. open            1330.60000          1327.40000          1320.99000   \n",
      "2. high            1337.39000          1334.01000          1329.43000   \n",
      "3. low             1329.72000          1326.51000          1320.99000   \n",
      "4. close           1334.12000          1330.61000          1327.40000   \n",
      "5. volume                4302                5153                4880   \n",
      "\n",
      "          2022-07-16 20:25:00 2022-07-16 20:20:00 2022-07-16 20:15:00  \\\n",
      "1. open            1318.84000          1325.34000          1329.41000   \n",
      "2. high            1321.00000          1325.36000          1329.42000   \n",
      "3. low             1315.25000          1314.60000          1320.70000   \n",
      "4. close           1320.99000          1318.85000          1325.35000   \n",
      "5. volume                4319               10621                7457   \n",
      "\n",
      "          2022-07-16 20:10:00 2022-07-16 20:05:00 2022-07-16 20:00:00  \\\n",
      "1. open            1334.87000          1339.24000          1336.23000   \n",
      "2. high            1335.36000          1339.25000          1342.20000   \n",
      "3. low             1324.54000          1334.85000          1335.02000   \n",
      "4. close           1329.41000          1334.87000          1339.24000   \n",
      "5. volume                8912                2058                4893   \n",
      "\n",
      "          2022-07-16 19:55:00  ... 2022-07-16 13:10:00 2022-07-16 13:05:00  \\\n",
      "1. open            1335.54000  ...          1221.99000          1219.04000   \n",
      "2. high            1337.02000  ...          1222.32000          1222.00000   \n",
      "3. low             1334.18000  ...          1218.40000          1216.45000   \n",
      "4. close           1336.23000  ...          1220.10000          1222.00000   \n",
      "5. volume                1808  ...                4024                4027   \n",
      "\n",
      "          2022-07-16 13:00:00 2022-07-16 12:55:00 2022-07-16 12:50:00  \\\n",
      "1. open            1215.26000          1214.53000          1200.87000   \n",
      "2. high            1220.44000          1220.33000          1216.40000   \n",
      "3. low             1212.68000          1214.11000          1200.87000   \n",
      "4. close           1219.04000          1215.26000          1214.52000   \n",
      "5. volume                4982                7768               13621   \n",
      "\n",
      "          2022-07-16 12:45:00 2022-07-16 12:40:00 2022-07-16 12:35:00  \\\n",
      "1. open            1203.03000          1203.15000          1203.35000   \n",
      "2. high            1203.35000          1206.55000          1203.72000   \n",
      "3. low             1200.00000          1202.90000          1202.99000   \n",
      "4. close           1200.88000          1203.02000          1203.15000   \n",
      "5. volume                1465                2531                 987   \n",
      "\n",
      "          2022-07-16 12:30:00 2022-07-16 12:25:00  \n",
      "1. open            1202.24000          1203.37000  \n",
      "2. high            1203.77000          1204.18000  \n",
      "3. low             1201.30000          1202.23000  \n",
      "4. close           1203.36000          1202.24000  \n",
      "5. volume                1381                1692  \n",
      "\n",
      "[5 rows x 100 columns]\n"
     ]
    }
   ],
   "source": [
    "url='https://www.alphavantage.co/query?function=CRYPTO_INTRADAY&symbol=ETH&market=USD&interval=5min&apikey=D5OBBCW29ZBREHXC'\n",
    "data = requests.get(url)\\\n",
    "        .json()['Time Series Crypto (5min)']\n",
    "\n",
    "df = pd.DataFrame.from_dict(data)\n",
    "#data.splice(index, remove_count )\n",
    "#dataset = pd.read_json(data, orient ='index')\n",
    "print(df)\n",
    "\n"
   ]
  },
  {
   "cell_type": "code",
   "execution_count": 17,
   "id": "596945d7",
   "metadata": {},
   "outputs": [
    {
     "data": {
      "text/plain": [
       "Date                 0\n",
       "Open                 0\n",
       "High                 0\n",
       "Low                  0\n",
       "Close                0\n",
       "Shares Traded        0\n",
       "Turnover (Rs. Cr)    0\n",
       "dtype: int64"
      ]
     },
     "execution_count": 17,
     "metadata": {},
     "output_type": "execute_result"
    }
   ],
   "source": [
    "#check for data with zero shares traded\n",
    "index_Zeros = df[ df['Shares Traded'] == '-'].index\n",
    "\n",
    "dataset.drop(index_Zeros , inplace = True)\n",
    "dataset.loc[(dataset['Shares Traded'] == '-')]\n",
    "dataset.isna().sum()"
   ]
  },
  {
   "cell_type": "code",
   "execution_count": 24,
   "id": "19d9868f",
   "metadata": {},
   "outputs": [
    {
     "name": "stdout",
     "output_type": "stream",
     "text": [
      "Help on function atr in module pandas_ta.volatility.atr:\n",
      "\n",
      "atr(high, low, close, length=None, mamode=None, talib=None, drift=None, offset=None, **kwargs)\n",
      "    Average True Range (ATR)\n",
      "    \n",
      "    Averge True Range is used to measure volatility, especially volatility caused by\n",
      "    gaps or limit moves.\n",
      "    \n",
      "    Sources:\n",
      "        https://www.tradingview.com/wiki/Average_True_Range_(ATR)\n",
      "    \n",
      "    Calculation:\n",
      "        Default Inputs:\n",
      "            length=14, drift=1, percent=False\n",
      "        EMA = Exponential Moving Average\n",
      "        SMA = Simple Moving Average\n",
      "        WMA = Weighted Moving Average\n",
      "        RMA = WildeR's Moving Average\n",
      "        TR = True Range\n",
      "    \n",
      "        tr = TR(high, low, close, drift)\n",
      "        if 'ema':\n",
      "            ATR = EMA(tr, length)\n",
      "        elif 'sma':\n",
      "            ATR = SMA(tr, length)\n",
      "        elif 'wma':\n",
      "            ATR = WMA(tr, length)\n",
      "        else:\n",
      "            ATR = RMA(tr, length)\n",
      "    \n",
      "        if percent:\n",
      "            ATR *= 100 / close\n",
      "    \n",
      "    Args:\n",
      "        high (pd.Series): Series of 'high's\n",
      "        low (pd.Series): Series of 'low's\n",
      "        close (pd.Series): Series of 'close's\n",
      "        length (int): It's period. Default: 14\n",
      "        mamode (str): See ```help(ta.ma)```. Default: 'rma'\n",
      "        talib (bool): If TA Lib is installed and talib is True, Returns the TA Lib\n",
      "            version. Default: True\n",
      "        drift (int): The difference period. Default: 1\n",
      "        offset (int): How many periods to offset the result. Default: 0\n",
      "    \n",
      "    Kwargs:\n",
      "        percent (bool, optional): Return as percentage. Default: False\n",
      "        fillna (value, optional): pd.DataFrame.fillna(value)\n",
      "        fill_method (value, optional): Type of fill method\n",
      "    \n",
      "    Returns:\n",
      "        pd.Series: New feature generated.\n",
      "\n"
     ]
    }
   ],
   "source": [
    "#dataset.ta.indicators() -- list of indicators in ta\n",
    "#help(ta.atr) -- help\n",
    "dataset['ATR']"
   ]
  },
  {
   "cell_type": "code",
   "execution_count": null,
   "id": "88ad8bec",
   "metadata": {},
   "outputs": [],
   "source": []
  }
 ],
 "metadata": {
  "kernelspec": {
   "display_name": "Python 3 (ipykernel)",
   "language": "python",
   "name": "python3"
  },
  "language_info": {
   "codemirror_mode": {
    "name": "ipython",
    "version": 3
   },
   "file_extension": ".py",
   "mimetype": "text/x-python",
   "name": "python",
   "nbconvert_exporter": "python",
   "pygments_lexer": "ipython3",
   "version": "3.9.12"
  }
 },
 "nbformat": 4,
 "nbformat_minor": 5
}
