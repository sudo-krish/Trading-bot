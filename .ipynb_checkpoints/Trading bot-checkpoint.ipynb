{
 "cells": [
  {
   "cell_type": "code",
   "execution_count": 35,
   "id": "994e1ffc",
   "metadata": {},
   "outputs": [],
   "source": [
    "#Load Libraries\n",
    "import pandas as pd\n",
    "from pandas.plotting import scatter_matrix\n",
    "import pandas_ta as ta\n",
    "import requests\n",
    "import json\n",
    "import numpy as np\n",
    "import matplotlib.pyplot as plt\n",
    "from sklearn import model_selection\n",
    "from sklearn.metrics import classification_report\n",
    "from sklearn.metrics import confusion_matrix\n",
    "from sklearn.metrics import accuracy_score\n",
    "from sklearn.linear_model import LogisticRegression\n",
    "from sklearn.tree import DecisionTreeClassifier\n",
    "from sklearn.neighbors import KNeighborsClassifier\n",
    "from sklearn.discriminant_analysis import LinearDiscriminantAnalysis\n",
    "from sklearn.naive_bayes import GaussianNB\n",
    "from sklearn.svm import SVC"
   ]
  },
  {
   "cell_type": "code",
   "execution_count": 49,
   "id": "21f69bea",
   "metadata": {},
   "outputs": [
    {
     "name": "stdout",
     "output_type": "stream",
     "text": [
      "          2022-07-15 20:00:00 2022-07-15 19:50:00 2022-07-15 19:25:00  \\\n",
      "1. open              140.5000            140.1000            140.1000   \n",
      "2. high              140.5000            140.1000            140.1000   \n",
      "3. low               140.5000            140.1000            140.1000   \n",
      "4. close             140.5000            140.1000            140.1000   \n",
      "5. volume                 106                 205                 100   \n",
      "\n",
      "          2022-07-15 18:35:00 2022-07-15 18:20:00 2022-07-15 18:15:00  \\\n",
      "1. open              140.0700            140.0700            139.9000   \n",
      "2. high              140.1400            140.0700            139.9000   \n",
      "3. low               140.0400            140.0700            139.9000   \n",
      "4. close             140.1400            140.0700            139.9000   \n",
      "5. volume                2435                 355                 100   \n",
      "\n",
      "          2022-07-15 18:05:00 2022-07-15 18:00:00 2022-07-15 17:50:00  \\\n",
      "1. open              140.0699            140.0700            139.7900   \n",
      "2. high              140.0699            140.0700            139.7900   \n",
      "3. low               140.0699            140.0700            139.7900   \n",
      "4. close             140.0699            140.0700            139.7900   \n",
      "5. volume                 310                 150                 200   \n",
      "\n",
      "          2022-07-15 17:45:00  ... 2022-07-15 10:15:00 2022-07-15 10:10:00  \\\n",
      "1. open              139.7900  ...            139.7000            139.6850   \n",
      "2. high              139.7900  ...            139.9000            139.8000   \n",
      "3. low               139.7900  ...            139.6100            139.5700   \n",
      "4. close             139.7900  ...            139.7500            139.7000   \n",
      "5. volume                 300  ...               27776               28103   \n",
      "\n",
      "          2022-07-15 10:05:00 2022-07-15 10:00:00 2022-07-15 09:55:00  \\\n",
      "1. open              139.1500            139.1600            139.2000   \n",
      "2. high              140.0200            139.2800            139.2800   \n",
      "3. low               139.0800            138.9100            138.9700   \n",
      "4. close             139.6800            139.0600            139.1700   \n",
      "5. volume               48961               31731               37825   \n",
      "\n",
      "          2022-07-15 09:50:00 2022-07-15 09:45:00 2022-07-15 09:40:00  \\\n",
      "1. open              139.5400            139.2500            139.6100   \n",
      "2. high              139.7000            139.6500            139.6800   \n",
      "3. low               139.2000            139.1600            139.1200   \n",
      "4. close             139.2200            139.5200            139.2750   \n",
      "5. volume               37726               41966               28038   \n",
      "\n",
      "          2022-07-15 09:35:00 2022-07-15 09:30:00  \n",
      "1. open              140.6800            140.1000  \n",
      "2. high              140.6800            140.7200  \n",
      "3. low               139.6000            140.1000  \n",
      "4. close             139.6250            140.7200  \n",
      "5. volume              189878                 526  \n",
      "\n",
      "[5 rows x 100 columns]\n"
     ]
    }
   ],
   "source": [
    "url='https://www.alphavantage.co/query?function=TIME_SERIES_INTRADAY&symbol=IBM&interval=5min&apikey=D5OBBCW29ZBREHXC'\n",
    "data = requests.get(url)\\\n",
    "        .json()['Time Series (5min)']\n",
    "\n",
    "df = pd.DataFrame.from_dict(data)\n",
    "#data.splice(index, remove_count )\n",
    "#dataset = pd.read_json(data, orient ='index')\n",
    "print(df)\n"
   ]
  },
  {
   "cell_type": "code",
   "execution_count": 17,
   "id": "611c7a4a",
   "metadata": {},
   "outputs": [
    {
     "data": {
      "text/plain": [
       "Date                 0\n",
       "Open                 0\n",
       "High                 0\n",
       "Low                  0\n",
       "Close                0\n",
       "Shares Traded        0\n",
       "Turnover (Rs. Cr)    0\n",
       "dtype: int64"
      ]
     },
     "execution_count": 17,
     "metadata": {},
     "output_type": "execute_result"
    }
   ],
   "source": [
    "#check for data with zero shares traded\n",
    "index_Zeros = df[ df['Shares Traded'] == '-'].index\n",
    "\n",
    "dataset.drop(index_Zeros , inplace = True)\n",
    "dataset.loc[(dataset['Shares Traded'] == '-')]\n",
    "dataset.isna().sum()"
   ]
  },
  {
   "cell_type": "code",
   "execution_count": 24,
   "id": "eed7f04b",
   "metadata": {},
   "outputs": [
    {
     "name": "stdout",
     "output_type": "stream",
     "text": [
      "Help on function atr in module pandas_ta.volatility.atr:\n",
      "\n",
      "atr(high, low, close, length=None, mamode=None, talib=None, drift=None, offset=None, **kwargs)\n",
      "    Average True Range (ATR)\n",
      "    \n",
      "    Averge True Range is used to measure volatility, especially volatility caused by\n",
      "    gaps or limit moves.\n",
      "    \n",
      "    Sources:\n",
      "        https://www.tradingview.com/wiki/Average_True_Range_(ATR)\n",
      "    \n",
      "    Calculation:\n",
      "        Default Inputs:\n",
      "            length=14, drift=1, percent=False\n",
      "        EMA = Exponential Moving Average\n",
      "        SMA = Simple Moving Average\n",
      "        WMA = Weighted Moving Average\n",
      "        RMA = WildeR's Moving Average\n",
      "        TR = True Range\n",
      "    \n",
      "        tr = TR(high, low, close, drift)\n",
      "        if 'ema':\n",
      "            ATR = EMA(tr, length)\n",
      "        elif 'sma':\n",
      "            ATR = SMA(tr, length)\n",
      "        elif 'wma':\n",
      "            ATR = WMA(tr, length)\n",
      "        else:\n",
      "            ATR = RMA(tr, length)\n",
      "    \n",
      "        if percent:\n",
      "            ATR *= 100 / close\n",
      "    \n",
      "    Args:\n",
      "        high (pd.Series): Series of 'high's\n",
      "        low (pd.Series): Series of 'low's\n",
      "        close (pd.Series): Series of 'close's\n",
      "        length (int): It's period. Default: 14\n",
      "        mamode (str): See ```help(ta.ma)```. Default: 'rma'\n",
      "        talib (bool): If TA Lib is installed and talib is True, Returns the TA Lib\n",
      "            version. Default: True\n",
      "        drift (int): The difference period. Default: 1\n",
      "        offset (int): How many periods to offset the result. Default: 0\n",
      "    \n",
      "    Kwargs:\n",
      "        percent (bool, optional): Return as percentage. Default: False\n",
      "        fillna (value, optional): pd.DataFrame.fillna(value)\n",
      "        fill_method (value, optional): Type of fill method\n",
      "    \n",
      "    Returns:\n",
      "        pd.Series: New feature generated.\n",
      "\n"
     ]
    }
   ],
   "source": [
    "#dataset.ta.indicators() -- list of indicators in ta\n",
    "#help(ta.atr) -- help\n",
    "dataset['ATR']"
   ]
  },
  {
   "cell_type": "code",
   "execution_count": null,
   "id": "7b8bf993",
   "metadata": {},
   "outputs": [],
   "source": []
  }
 ],
 "metadata": {
  "kernelspec": {
   "display_name": "Python 3 (ipykernel)",
   "language": "python",
   "name": "python3"
  },
  "language_info": {
   "codemirror_mode": {
    "name": "ipython",
    "version": 3
   },
   "file_extension": ".py",
   "mimetype": "text/x-python",
   "name": "python",
   "nbconvert_exporter": "python",
   "pygments_lexer": "ipython3",
   "version": "3.9.12"
  }
 },
 "nbformat": 4,
 "nbformat_minor": 5
}
